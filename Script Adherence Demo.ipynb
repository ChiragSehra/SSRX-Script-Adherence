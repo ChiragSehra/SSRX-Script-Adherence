{
 "cells": [
  {
   "cell_type": "markdown",
   "metadata": {},
   "source": [
    "# Demo to Script Adherence Project"
   ]
  },
  {
   "cell_type": "markdown",
   "metadata": {},
   "source": [
    "## Script Adherence:\n",
    "\n",
    "    Script adherence refers to the cohesiveness of a caller to the questions to be asked to our customers.\n",
    "\n",
    "    More is the Script Adherence, More Efficient the caller is.\n",
    "\n",
    "\n",
    "    Sometimes it becomes highly important to be adherent to the questions to be asked to the patient to gather only valuable content.\n",
    "\n",
    "    Not following the directed path may lead to violations of compliance and may cause penalties.\n",
    "\n"
   ]
  },
  {
   "cell_type": "markdown",
   "metadata": {},
   "source": [
    "#### This system is designed to determine which question is asked when and whether questions asked are in correct order or not."
   ]
  },
  {
   "cell_type": "markdown",
   "metadata": {},
   "source": [
    "## Example:\n",
    "\n",
    "### Patient Calls Hub\n",
    "\n",
    "#### Patient: \n",
    "Hi my name is Eli, I'm a patient looking to start on your medication. I'm calling because I tried getting your medication but my insurance company is telling me I have to try some other medication. I don't want to do that. My doctor wrote your medication for my disease and that is what I want. How can you help me?\n",
    "\n",
    "\n",
    "#### Hub Reponse:\n",
    " Hi, Eli, Thanks for calling our program, before we begin, have you enrolled in our services before?\n",
    " \n",
    " \n",
    "### Issue with this statement: \n",
    "This may be a potential HIPAA issue as the hub manager should have asked questoins that can confirm person's identity before getting into thier records and Patient Health Information(PHI)."
   ]
  },
  {
   "cell_type": "markdown",
   "metadata": {},
   "source": [
    "<img src=\"files/quote-talk-is-cheap-show-me-the-code-linus-torvalds-273528.jpg\">"
   ]
  },
  {
   "cell_type": "markdown",
   "metadata": {},
   "source": [
    "## Run the below cell and upload a file from system"
   ]
  },
  {
   "cell_type": "code",
   "execution_count": 1,
   "metadata": {},
   "outputs": [],
   "source": [
    "from sys import executable, argv\n",
    "from subprocess import check_output\n",
    "from PyQt5.QtWidgets import QFileDialog, QApplication\n",
    "\n",
    "def gui_fname(directory='./'):\n",
    "    \"\"\"Open a file dialog, starting in the given directory, and return\n",
    "    the chosen filename\"\"\"\n",
    "    # run this exact file in a separate process, and grab the result\n",
    "    file = check_output([executable, __file__, directory])\n",
    "    return file.strip()\n",
    "\n",
    "if __name__ == \"__main__\":\n",
    "    directory = argv[1]\n",
    "    app = QApplication([directory])\n",
    "    fname = QFileDialog.getOpenFileName(None, \"Select a file...\", \n",
    "            directory, filter=\"All files (*)\")\n",
    "#     print(fname[0])\n",
    "    "
   ]
  },
  {
   "cell_type": "code",
   "execution_count": 2,
   "metadata": {},
   "outputs": [
    {
     "name": "stderr",
     "output_type": "stream",
     "text": [
      "C:\\Users\\chirag\\AppData\\Local\\Continuum\\anaconda3\\lib\\site-packages\\gensim\\utils.py:1212: UserWarning: detected Windows; aliasing chunkize to chunkize_serial\n",
      "  warnings.warn(\"detected Windows; aliasing chunkize to chunkize_serial\")\n"
     ]
    }
   ],
   "source": [
    "from gensim import utils\n",
    "from gensim.models.doc2vec import LabeledSentence\n",
    "# from gensim.models import Doc2Vec\n",
    "import gensim\n",
    "import numpy as np\n",
    "import random\n",
    "from nltk.tokenize import word_tokenize\n",
    "model = gensim.models.doc2vec.Doc2Vec.load('doc2vec_debugmode.d2v')"
   ]
  },
  {
   "cell_type": "markdown",
   "metadata": {},
   "source": [
    "## Output of next cell would be as:\n",
    "\n",
    "### Tag:\n",
    "The Question Number \n",
    "\n",
    "### Accuracy:\n",
    "How accuractely the model predicted the question to match our predefined set of questions.\n",
    "\n",
    "### Question: \n",
    "Question for which `Question Tag` is predicted"
   ]
  },
  {
   "cell_type": "code",
   "execution_count": 4,
   "metadata": {},
   "outputs": [
    {
     "name": "stderr",
     "output_type": "stream",
     "text": [
      "C:\\Users\\chirag\\AppData\\Local\\Continuum\\anaconda3\\lib\\site-packages\\gensim\\matutils.py:737: FutureWarning: Conversion of the second argument of issubdtype from `int` to `np.signedinteger` is deprecated. In future, it will be treated as `np.int32 == np.dtype(int).type`.\n",
      "  if np.issubdtype(vec.dtype, np.int):\n"
     ]
    },
    {
     "name": "stdout",
     "output_type": "stream",
     "text": [
      "Tag: Question_0  Accuracy: 0.9343855977058411  Question: Speaker 0: You have reached the Rayos no hassle copay program. This is Natasha speaking. how may I help you?\n",
      "\n",
      "Tag: Question_1  Accuracy: 0.9453346729278564  Question: Speaker 0: Okay may I have your NPI number.\n",
      "\n",
      "Tag: Question_3  Accuracy: 0.8567123413085938  Question: Speaker 0: Okay and Mary is the patient enrolled in Medicare, Medicare advantage or Medicare part B.?\n",
      "\n",
      "Tag: Question_3  Accuracy: 0.8349364399909973  Question: Speaker 0: okay.\n",
      "\n",
      "Tag: Question_7  Accuracy: 0.8329857587814331  Question: Speaker 0: Is the patient enrolled in Medicare or Medicaid?\n",
      "\n",
      "Tag: Question_5  Accuracy: 0.8778643608093262  Question: Speaker 0: Is the patient enrolled in Tricare department of defense or veterans affairs program?\n",
      "\n",
      "Tag: Question_6  Accuracy: 0.8646660447120667  Question: Speaker 0: Is the patient enrolled in a commercial plan?\n",
      "\n",
      "Tag: Question_7  Accuracy: 0.9133411645889282  Question: Speaker 0: Can I have the doctor's NPI number?\n",
      "\n",
      "Tag: Question_7  Accuracy: 0.8548785448074341  Question: Speaker 0: Okay and may I have the doctor's name?\n",
      "\n",
      "Tag: Question_7  Accuracy: 0.8824583888053894  Question: Speaker 2: And the number and the.\n",
      "\n"
     ]
    }
   ],
   "source": [
    "with open(str(fname[0])) as f:\n",
    "    text = []\n",
    "    for line in f.readlines():\n",
    "        text.append(line)\n",
    "f.close()\n",
    "\n",
    "for i in text:\n",
    "    data = word_tokenize(i)\n",
    "    arr = np.asarray(data)\n",
    "    docvec = model.infer_vector(arr)\n",
    "    sims = model.docvecs.most_similar([docvec],topn=1)\n",
    "    if str(sims[0][0]).startswith('Q') and sims[0][1] >= 0.80:\n",
    "        print('Tag: {} '.format(sims[0][0]),'Accuracy: {} '.format(sims[0][1]), 'Question: {}'.format(i))\n",
    "\n",
    "        with open(str(fname[0])+'SA','a') as f:\n",
    "            f.write('Tag: {} '.format(sims[0][0]))\n",
    "            f.write('Accuracy: {} '.format(sims[0][1]))\n",
    "            f.write('Question: {}'.format(i))\n",
    "            f.write('\\n')"
   ]
  },
  {
   "cell_type": "markdown",
   "metadata": {},
   "source": [
    "<img src =\"files/That-s-All-Folks-the-looney-tunes-show-38740983-1600-900.jpg\">"
   ]
  },
  {
   "cell_type": "markdown",
   "metadata": {},
   "source": [
    "## This project is still under research for getting better results to make our systems more efficient and to produce better accuracy"
   ]
  },
  {
   "cell_type": "markdown",
   "metadata": {},
   "source": [
    "<img src=\"files/under-maintenance-300x170.png\">"
   ]
  }
 ],
 "metadata": {
  "kernelspec": {
   "display_name": "Python 3",
   "language": "python",
   "name": "python3"
  },
  "language_info": {
   "codemirror_mode": {
    "name": "ipython",
    "version": 3
   },
   "file_extension": ".py",
   "mimetype": "text/x-python",
   "name": "python",
   "nbconvert_exporter": "python",
   "pygments_lexer": "ipython3",
   "version": "3.7.0"
  }
 },
 "nbformat": 4,
 "nbformat_minor": 2
}
